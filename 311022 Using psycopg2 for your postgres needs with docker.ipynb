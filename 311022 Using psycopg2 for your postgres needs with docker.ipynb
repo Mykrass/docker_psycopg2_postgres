{
 "cells": [
  {
   "cell_type": "markdown",
   "id": "1d5e9a4f",
   "metadata": {},
   "source": [
    "### Reading this article for understanding\n",
    "\n",
    "https://diegoquintanav.github.io/dq-de-mission-01-EN.html"
   ]
  },
  {
   "cell_type": "code",
   "execution_count": 1,
   "id": "88f7139e",
   "metadata": {},
   "outputs": [
    {
     "name": "stdout",
     "output_type": "stream",
     "text": [
      "/Users/mykras/Jupyter Notebooks\r\n"
     ]
    }
   ],
   "source": [
    "!pwd"
   ]
  },
  {
   "cell_type": "code",
   "execution_count": 2,
   "id": "53a3cac1",
   "metadata": {},
   "outputs": [
    {
     "name": "stdout",
     "output_type": "stream",
     "text": [
      "total 24\r\n",
      "0 drwxr-xr-x@  5 mykras  staff   160B Nov  2 04:04 \u001b[34m.\u001b[m\u001b[m/\r\n",
      "0 drwx------@ 74 mykras  staff   2.3K Nov  2 12:04 \u001b[34m..\u001b[m\u001b[m/\r\n",
      "8 -rw-r--r--@  1 mykras  staff   224B Nov  2 04:04 Commands.sh\r\n",
      "8 -rw-r--r--@  1 mykras  staff    96B Nov  2 04:04 README.md\r\n",
      "8 -rw-r--r--@  1 mykras  staff   633B Nov  2 04:04 docker-compose.yml\r\n"
     ]
    }
   ],
   "source": [
    "!ls -GFlash --color /Users/mykras/Downloads/docker_psycopg2_postgres-main"
   ]
  },
  {
   "cell_type": "code",
   "execution_count": 3,
   "id": "5aaaecce",
   "metadata": {},
   "outputs": [
    {
     "name": "stdout",
     "output_type": "stream",
     "text": [
      "/Users/mykras/Downloads/docker_psycopg2_postgres-main\n",
      "total 24\r\n",
      "0 drwxr-xr-x@  5 mykras  staff   160B Nov  2 04:04 \u001b[34m.\u001b[m\u001b[m/\r\n",
      "0 drwx------@ 74 mykras  staff   2.3K Nov  2 12:04 \u001b[34m..\u001b[m\u001b[m/\r\n",
      "8 -rw-r--r--@  1 mykras  staff   224B Nov  2 04:04 Commands.sh\r\n",
      "8 -rw-r--r--@  1 mykras  staff    96B Nov  2 04:04 README.md\r\n",
      "8 -rw-r--r--@  1 mykras  staff   633B Nov  2 04:04 docker-compose.yml\r\n"
     ]
    }
   ],
   "source": [
    "%cd /Users/mykras/Downloads/docker_psycopg2_postgres-main\n",
    "!ls -GFlash "
   ]
  },
  {
   "cell_type": "code",
   "execution_count": 4,
   "id": "f299571d",
   "metadata": {},
   "outputs": [
    {
     "name": "stdout",
     "output_type": "stream",
     "text": [
      "!cat docker-compose.yml\r\n",
      "\r\n",
      "!docker-compose -p dq_de up -d\r\n",
      "\r\n",
      "# check if postgres docker instance is alive\r\n",
      "!docker ps\r\n",
      "\r\n",
      "# retrieve the ip address of the container, seen from the host\r\n",
      "#!docker inspect dq_de_db_1 | grep \"IPAddress\"\r\n"
     ]
    }
   ],
   "source": [
    "!cat Commands.sh"
   ]
  },
  {
   "cell_type": "code",
   "execution_count": 5,
   "id": "8ba6687a",
   "metadata": {},
   "outputs": [
    {
     "name": "stdout",
     "output_type": "stream",
     "text": [
      "# Use postgres/example user/password credentials\r\n",
      "version: '3.1'\r\n",
      "\r\n",
      "services:\r\n",
      "  db:\r\n",
      "    image: postgres:14\r\n",
      "    environment:\r\n",
      "      POSTGRES_USER: postgres\r\n",
      "      POSTGRES_PASSWORD: postgres \r\n",
      "    volumes:\r\n",
      "      - pgdata:/var/lib/postgresql/data\r\n",
      "    ports:\r\n",
      "      - 54320:5432\r\n",
      "    networks:\r\n",
      "      db_nw:\r\n",
      "        aliases:\r\n",
      "          - postgres\r\n",
      "  pgadmin:\r\n",
      "    image: dpage/pgadmin4:latest\r\n",
      "    environment:\r\n",
      "      POSTGRES_PASSWORD: postgres \r\n",
      "      PGADMIN_DEFAULT_EMAIL: user@domain.com \r\n",
      "      PGADMIN_DEFAULT_PASSWORD: admin\r\n",
      "    ports:\r\n",
      "      - 8080:80\r\n",
      "    networks:\r\n",
      "      - db_nw\r\n",
      "\r\n",
      "volumes:\r\n",
      "    pgdata: {}\r\n",
      "\r\n",
      "networks:\r\n",
      "  db_nw:\r\n",
      "    driver: bridge\r\n"
     ]
    }
   ],
   "source": [
    "!cat docker-compose.yml"
   ]
  },
  {
   "cell_type": "code",
   "execution_count": 6,
   "id": "7ef277ff",
   "metadata": {},
   "outputs": [
    {
     "name": "stdout",
     "output_type": "stream",
     "text": [
      "\u001b[1A\u001b[1B\u001b[0G\u001b[?25l[+] Running 0/0\n",
      "\u001b[37m ⠋ Network dq_de_db_nw  Creating                                           0.0s\n",
      "\u001b[0m\u001b[?25h\u001b[1A\u001b[1A\u001b[0G\u001b[?25l[+] Running 2/1\n",
      "\u001b[34m ⠿ Network dq_de_db_nw        Created                                      0.0s\n",
      "\u001b[0m\u001b[34m ⠿ Volume \"dq_de_pgdata\"      Created                                      0.0s\n",
      "\u001b[0m\u001b[37m ⠿ Container dq_de-db-1       Starting                                     0.1s\n",
      "\u001b[0m\u001b[37m ⠿ Container dq_de-pgadmin-1  Starting                                     0.1s\n",
      "\u001b[0m\u001b[?25h\u001b[1A\u001b[1A\u001b[1A\u001b[1A\u001b[1A\u001b[0G\u001b[?25l[+] Running 2/4\n",
      "\u001b[34m ⠿ Network dq_de_db_nw        Created                                      0.0s\n",
      "\u001b[0m\u001b[34m ⠿ Volume \"dq_de_pgdata\"      Created                                      0.0s\n",
      "\u001b[0m\u001b[37m ⠿ Container dq_de-db-1       Starting                                     0.2s\n",
      "\u001b[0m\u001b[37m ⠿ Container dq_de-pgadmin-1  Starting                                     0.2s\n",
      "\u001b[0m\u001b[?25h\u001b[1A\u001b[1A\u001b[1A\u001b[1A\u001b[1A\u001b[0G\u001b[?25l[+] Running 2/4\n",
      "\u001b[34m ⠿ Network dq_de_db_nw        Created                                      0.0s\n",
      "\u001b[0m\u001b[34m ⠿ Volume \"dq_de_pgdata\"      Created                                      0.0s\n",
      "\u001b[0m\u001b[37m ⠿ Container dq_de-db-1       Starting                                     0.3s\n",
      "\u001b[0m\u001b[37m ⠿ Container dq_de-pgadmin-1  Starting                                     0.3s\n",
      "\u001b[0m\u001b[?25h\u001b[1A\u001b[1A\u001b[1A\u001b[1A\u001b[1A\u001b[0G\u001b[?25l[+] Running 2/4\n",
      "\u001b[34m ⠿ Network dq_de_db_nw        Created                                      0.0s\n",
      "\u001b[0m\u001b[34m ⠿ Volume \"dq_de_pgdata\"      Created                                      0.0s\n",
      "\u001b[0m\u001b[37m ⠿ Container dq_de-db-1       Starting                                     0.4s\n",
      "\u001b[0m\u001b[37m ⠿ Container dq_de-pgadmin-1  Starting                                     0.4s\n",
      "\u001b[0m\u001b[?25h\u001b[1A\u001b[1A\u001b[1A\u001b[1A\u001b[1A\u001b[0G\u001b[?25l\u001b[34m[+] Running 4/4\u001b[0m\n",
      "\u001b[34m ⠿ Network dq_de_db_nw        Created                                      0.0s\n",
      "\u001b[0m\u001b[34m ⠿ Volume \"dq_de_pgdata\"      Created                                      0.0s\n",
      "\u001b[0m\u001b[34m ⠿ Container dq_de-db-1       Started                                      0.4s\n",
      "\u001b[0m\u001b[34m ⠿ Container dq_de-pgadmin-1  Started                                      0.4s\n",
      "\u001b[0m\u001b[?25h"
     ]
    }
   ],
   "source": [
    "#\n",
    "!docker-compose -p dq_de up -d"
   ]
  },
  {
   "cell_type": "code",
   "execution_count": 7,
   "id": "e2eca6f4",
   "metadata": {},
   "outputs": [
    {
     "name": "stdout",
     "output_type": "stream",
     "text": [
      "CONTAINER ID   IMAGE                   COMMAND                  CREATED         STATUS         PORTS                           NAMES\r\n",
      "7be0e20c63bb   postgres:14             \"docker-entrypoint.s…\"   4 seconds ago   Up 3 seconds   0.0.0.0:54320->5432/tcp         dq_de-db-1\r\n",
      "d79ac76b29a5   dpage/pgadmin4:latest   \"/entrypoint.sh\"         4 seconds ago   Up 3 seconds   443/tcp, 0.0.0.0:8080->80/tcp   dq_de-pgadmin-1\r\n"
     ]
    }
   ],
   "source": [
    "!docker ps"
   ]
  },
  {
   "cell_type": "code",
   "execution_count": 8,
   "id": "77f5629d",
   "metadata": {},
   "outputs": [
    {
     "name": "stdout",
     "output_type": "stream",
     "text": [
      "            \"SecondaryIPAddresses\": null,\r\n",
      "            \"IPAddress\": \"\",\r\n",
      "                    \"IPAddress\": \"172.19.0.2\",\r\n"
     ]
    }
   ],
   "source": [
    "# CONTAINER ID NAMES for dq_de-db-1\n",
    "!docker inspect 7be0e20c63bb | grep \"IPAddress\""
   ]
  },
  {
   "cell_type": "code",
   "execution_count": 14,
   "id": "e5875a43",
   "metadata": {},
   "outputs": [],
   "source": [
    "#pip install --upgrade pip\n",
    "#!pip3 install ddlgenerator\n",
    "import pandas as pd\n",
    "import glob, os\n",
    "import psycopg2\n",
    "from ddlgenerator.ddlgenerator import Table"
   ]
  },
  {
   "cell_type": "code",
   "execution_count": 12,
   "id": "866c68d3",
   "metadata": {},
   "outputs": [
    {
     "ename": "OperationalError",
     "evalue": "connection to server at \"172.19.0.2\", port 5432 failed: Operation timed out\n\tIs the server running on that host and accepting TCP/IP connections?\n",
     "output_type": "error",
     "traceback": [
      "\u001b[0;31m---------------------------------------------------------------------------\u001b[0m",
      "\u001b[0;31mOperationalError\u001b[0m                          Traceback (most recent call last)",
      "Input \u001b[0;32mIn [12]\u001b[0m, in \u001b[0;36m<cell line: 3>\u001b[0;34m()\u001b[0m\n\u001b[1;32m      1\u001b[0m \u001b[38;5;28;01mimport\u001b[39;00m \u001b[38;5;21;01mpsycopg2\u001b[39;00m\n\u001b[0;32m----> 3\u001b[0m conn \u001b[38;5;241m=\u001b[39m \u001b[43mpsycopg2\u001b[49m\u001b[38;5;241;43m.\u001b[39;49m\u001b[43mconnect\u001b[49m\u001b[43m(\u001b[49m\n\u001b[1;32m      4\u001b[0m \u001b[43m    \u001b[49m\u001b[43mdbname\u001b[49m\u001b[38;5;241;43m=\u001b[39;49m\u001b[38;5;124;43m\"\u001b[39;49m\u001b[38;5;124;43mpostgres\u001b[39;49m\u001b[38;5;124;43m\"\u001b[39;49m\u001b[43m,\u001b[49m\u001b[43m \u001b[49m\u001b[43muser\u001b[49m\u001b[38;5;241;43m=\u001b[39;49m\u001b[38;5;124;43m\"\u001b[39;49m\u001b[38;5;124;43mpostgres\u001b[39;49m\u001b[38;5;124;43m\"\u001b[39;49m\u001b[43m,\u001b[49m\u001b[43m \u001b[49m\u001b[43mpassword\u001b[49m\u001b[38;5;241;43m=\u001b[39;49m\u001b[38;5;124;43m\"\u001b[39;49m\u001b[38;5;124;43mpostgres\u001b[39;49m\u001b[38;5;124;43m\"\u001b[39;49m\u001b[43m,\u001b[49m\u001b[43m \u001b[49m\u001b[43mhost\u001b[49m\u001b[38;5;241;43m=\u001b[39;49m\u001b[38;5;124;43m\"\u001b[39;49m\u001b[38;5;124;43m172.19.0.2\u001b[39;49m\u001b[38;5;124;43m\"\u001b[39;49m\n\u001b[1;32m      5\u001b[0m \u001b[43m)\u001b[49m\n\u001b[1;32m      7\u001b[0m conn\u001b[38;5;241m.\u001b[39mautocommit \u001b[38;5;241m=\u001b[39m \u001b[38;5;28;01mTrue\u001b[39;00m\n\u001b[1;32m      8\u001b[0m cur \u001b[38;5;241m=\u001b[39m conn\u001b[38;5;241m.\u001b[39mcursor()\n",
      "File \u001b[0;32m/Library/Frameworks/Python.framework/Versions/3.10/lib/python3.10/site-packages/psycopg2/__init__.py:122\u001b[0m, in \u001b[0;36mconnect\u001b[0;34m(dsn, connection_factory, cursor_factory, **kwargs)\u001b[0m\n\u001b[1;32m    119\u001b[0m     kwasync[\u001b[38;5;124m'\u001b[39m\u001b[38;5;124masync_\u001b[39m\u001b[38;5;124m'\u001b[39m] \u001b[38;5;241m=\u001b[39m kwargs\u001b[38;5;241m.\u001b[39mpop(\u001b[38;5;124m'\u001b[39m\u001b[38;5;124masync_\u001b[39m\u001b[38;5;124m'\u001b[39m)\n\u001b[1;32m    121\u001b[0m dsn \u001b[38;5;241m=\u001b[39m _ext\u001b[38;5;241m.\u001b[39mmake_dsn(dsn, \u001b[38;5;241m*\u001b[39m\u001b[38;5;241m*\u001b[39mkwargs)\n\u001b[0;32m--> 122\u001b[0m conn \u001b[38;5;241m=\u001b[39m \u001b[43m_connect\u001b[49m\u001b[43m(\u001b[49m\u001b[43mdsn\u001b[49m\u001b[43m,\u001b[49m\u001b[43m \u001b[49m\u001b[43mconnection_factory\u001b[49m\u001b[38;5;241;43m=\u001b[39;49m\u001b[43mconnection_factory\u001b[49m\u001b[43m,\u001b[49m\u001b[43m \u001b[49m\u001b[38;5;241;43m*\u001b[39;49m\u001b[38;5;241;43m*\u001b[39;49m\u001b[43mkwasync\u001b[49m\u001b[43m)\u001b[49m\n\u001b[1;32m    123\u001b[0m \u001b[38;5;28;01mif\u001b[39;00m cursor_factory \u001b[38;5;129;01mis\u001b[39;00m \u001b[38;5;129;01mnot\u001b[39;00m \u001b[38;5;28;01mNone\u001b[39;00m:\n\u001b[1;32m    124\u001b[0m     conn\u001b[38;5;241m.\u001b[39mcursor_factory \u001b[38;5;241m=\u001b[39m cursor_factory\n",
      "\u001b[0;31mOperationalError\u001b[0m: connection to server at \"172.19.0.2\", port 5432 failed: Operation timed out\n\tIs the server running on that host and accepting TCP/IP connections?\n"
     ]
    }
   ],
   "source": [
    "import psycopg2\n",
    "\n",
    "conn = psycopg2.connect(\n",
    "    dbname=\"postgres\", user=\"postgres\", password=\"postgres\", host=\"172.19.0.2\"\n",
    ")\n",
    "\n",
    "conn.autocommit = True\n",
    "cur = conn.cursor()\n",
    "\n",
    "DATA_PROD_USER_PWD = \"changeme\"\n",
    "DATA_VIEW_USER_PWD = \"changeme\"\n",
    "\n",
    "# create user and detach password from command\n",
    "# also add an IF NOT EXIST clause as a hack from\n",
    "# https://stackoverflow.com/questions/8092086/create-postgresql-role-user-if-it-doesnt-exist\n",
    "cur.execute(f\"\"\"\n",
    "CREATE USER data_prod_user WITH PASSWORD '{DATA_PROD_USER_PWD}';\n",
    "CREATE GROUP readonly WITH NOLOGIN;\n",
    "CREATE USER analyst1 WITH PASSWORD '{DATA_VIEW_USER_PWD}' IN GROUP readonly;\n",
    "\"\"\")\n",
    "\n",
    "# create db\n",
    "print(\"CREATE DATABASE ihw OWNER postgres\")\n",
    "cur.execute(\"CREATE DATABASE ihw OWNER postgres\")\n",
    "\n",
    "conn.commit()\n",
    "conn.close()"
   ]
  },
  {
   "cell_type": "code",
   "execution_count": null,
   "id": "8f63fb3e",
   "metadata": {},
   "outputs": [],
   "source": []
  },
  {
   "cell_type": "code",
   "execution_count": null,
   "id": "8e05e002",
   "metadata": {},
   "outputs": [],
   "source": []
  },
  {
   "cell_type": "code",
   "execution_count": null,
   "id": "02883a72",
   "metadata": {},
   "outputs": [],
   "source": []
  }
 ],
 "metadata": {
  "kernelspec": {
   "display_name": "Python 3 (ipykernel)",
   "language": "python",
   "name": "python3"
  },
  "language_info": {
   "codemirror_mode": {
    "name": "ipython",
    "version": 3
   },
   "file_extension": ".py",
   "mimetype": "text/x-python",
   "name": "python",
   "nbconvert_exporter": "python",
   "pygments_lexer": "ipython3",
   "version": "3.10.6"
  }
 },
 "nbformat": 4,
 "nbformat_minor": 5
}
